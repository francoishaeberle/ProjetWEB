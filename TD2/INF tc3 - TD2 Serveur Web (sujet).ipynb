{
 "cells": [
  {
   "cell_type": "markdown",
   "metadata": {},
   "source": [
    "#    <center>Informatique tc3 (Projet Web) - TD2</center>"
   ]
  },
  {
   "cell_type": "markdown",
   "metadata": {},
   "source": [
    "## <center style=\"color: #66d\">Mise en place d'un serveur Web en Python</center>"
   ]
  },
  {
   "cell_type": "markdown",
   "metadata": {},
   "source": [
    "### 1. Préambule"
   ]
  },
  {
   "cell_type": "markdown",
   "metadata": {},
   "source": [
    "#### a) Modalités pratiques"
   ]
  },
  {
   "cell_type": "markdown",
   "metadata": {},
   "source": [
    "Un serveur est un processus qui tourne indéfiniment en l'attente de requêtes HTTP auxquelles répondre. Pour cette raison, il n'est pas pratique de développer des programmes serveurs dans une cellule de notebook.\n",
    "En effet, les cellules sont exécutées une à une par un même processus <i>(le kernel IPython)</i>. Si donc on démarre dans une cellule un serveur qui boucle indéfiniment, les cellules suivantes ne seront jamais exécutées...\n",
    "<p style=\"color:#C00\">\n",
    "Pour cette raison, les développements à mener pour ce TD feront l'objet de fichiers individuels, nommés TD2-sXX.py et démarrés manuellement via IDLE ou Spyder par exemple.\n",
    "\n",
    "Si vous utilisez Spyder, nous vous conseillons d'exécuter vos programmes dans une __console dédiée__ ce qui permet de facilement tuer le processus en cas de problème et de ne pas bloquer la console de base. Pour cela il suffit d'aller dans le menu \"Exécution&nbsp;|&nbsp;Configurer...\" et de choisir l'option \"Exécuter dans une nouvelle console Python dédiée\" (Nota bene: Ce paramétrage est à faire pour chaque fichier `.py`)."
   ]
  },
  {
   "cell_type": "markdown",
   "metadata": {},
   "source": [
    "#### b) Travail à réaliser"
   ]
  },
  {
   "cell_type": "markdown",
   "metadata": {},
   "source": [
    "Il est plus que probable qu'il ne vous soit pas possible de finir ce TD en 2h. Toutefois, vous aurez par la suite à développer un serveur en mode projet (travail de groupe) qui pourra réutiliser les produits de ce TD (cf. question 5.3, <tt>TD2-s6.py</tt>).\n",
    "Il est donc fortement recommandé d'aller le plus loin possible dans le travail proposé, __mais pas au détriment du TD suivant__."
   ]
  },
  {
   "cell_type": "markdown",
   "metadata": {},
   "source": [
    "### 2. Mise en place d'un serveur Web élémentaire (pages statiques)"
   ]
  },
  {
   "cell_type": "markdown",
   "metadata": {},
   "source": [
    "<div style=\"background-color:#fee;padding:10px;border-radius:3px\">\n",
    "<b>N.B.</b> Dans toute la suite il sera supposé que les serveurs que vous développerez utilisent le port <tt>8080</tt>.\n",
    "Le texte des questions et l'ensemble des liens de ce document permettant de tester vos serveurs font donc systématiquement appel à ce numéro de port. Si pour une raison ou pour une autre le port <tt>8080</tt> ne convient pas sur votre machine, il sera pertinent de corriger le texte et les liens du présent document au fur et à mesure de l'avancement de ce TD."
   ]
  },
  {
   "cell_type": "markdown",
   "metadata": {},
   "source": [
    "<div style=\"background-color:#eef;padding:10px;border-radius:3px\">\n",
    "<b>2.1 -</b>\n",
    "En vous référant à la <a href=\"https://docs.python.org/3/library/http.server.html#http.server.SimpleHTTPRequestHandler.do_GET\">doc python</a>, développez un premier serveur très simple nommé <tt>TD2-s1.py</tt>, qui attend des requêtes GET sur le port 8080 et permet de délivrer les documents du répertoire courant."
   ]
  },
  {
   "cell_type": "code",
   "execution_count": 2,
   "metadata": {},
   "outputs": [],
   "source": [
    "%pycat TD2-s1.py"
   ]
  },
  {
   "cell_type": "markdown",
   "metadata": {},
   "source": [
    "<div style=\"background-color:#eef;padding:10px;border-radius:3px\">\n",
    "<b>2.2 -</b>\n",
    "Une fois écrit le code de votre serveur, démarrez-le via Spyder, votre outil favori, ou la ligne de commande, puis testez-le en exécutant la prochaine cellule. Vous devez obtenir le résultat suivant :\n",
    "<br>\n",
    "<img src=\"TD2-welcome1.png\">"
   ]
  },
  {
   "cell_type": "code",
   "execution_count": 3,
   "metadata": {},
   "outputs": [],
   "source": [
    "from IPython.display import IFrame\n",
    "\n",
    "page = 'http://localhost:8080/welcome.html'\n",
    "\n",
    "# crée un iframe qui effectue une requête vers le serveur\n",
    "# que vous êtes censés avoir démarré\n",
    "IFrame(page,1080,120)"
   ]
  },
  {
   "cell_type": "markdown",
   "metadata": {},
   "source": [
    "<div style=\"background-color:#eef;padding:10px;border-radius:3px\">\n",
    "<b>2.3 -</b>\n",
    "Essayez maintenant d'accéder aux adresses ci-dessous, observez les messages de log dans la fenêtre de l'interpréteur python, et commentez les résultats obtenus (page affichée par le navigateur et message de log) :\n",
    " - http://localhost:8080/welcome.html\n",
    " - http://localhost:8080/tagada.html\n",
    " - http://localhost:8080/\n",
    " <br>\n",
    " <img src=\"TD2-trace.png\">"
   ]
  },
  {
   "cell_type": "markdown",
   "metadata": {},
   "source": [
    "### 3. Personnalisation du serveur de base"
   ]
  },
  {
   "cell_type": "markdown",
   "metadata": {},
   "source": [
    "#### a) Modification du répertoire racine"
   ]
  },
  {
   "cell_type": "markdown",
   "metadata": {},
   "source": [
    "Le serveur précédent n'est absolument pas sécurisé : une fois démarré sur votre poste il donne accès au contenu du répertoire courant (qui contient notamment les codes source) à n'importe qui connaissant son existence et son numéro de port.\n",
    "On désire donc développer un serveur qui au moins ne délivre plus que les documents d'un sous-répertoire nommé <tt>client</tt> par exemple. \n",
    "<p>\n",
    "Pour traiter les requêtes entrantes, votre serveur instancie des objets de la classe <tt>http.server.SimpleHTTPRequestHandler</tt>. C'est cette classe qui procure le traitement observé, qui consiste à envoyer au client le fichier correspondant à une requête de type GET, un \"listing\" avec des liens lorsqu'il s'agit d'un répertoire, ou un message d'erreur lorsque le fichier n'existe pas.\n",
    "<p>\n",
    "Pour obtenir un comportement plus fin, il est nécessaire de créer une sous-classe de <tt>http.server.SimpleHTTPRequestHandler</tt> qui introduit le comportement souhaité.\n"
   ]
  },
  {
   "cell_type": "markdown",
   "metadata": {},
   "source": [
    "<div style=\"background-color:#eef;padding:10px;border-radius:3px\">\n",
    "<b>3.1 -</b>\n",
    "Développez une sous-classe de <tt>http.server.SimpleHTTPRequestHandler</tt> qui délivre uniquement les documents d'un sous-répertoire nommé <tt>client</tt>. Une requête vers l'adresse <tt><span>http:</span>//<span>localhost:</span>8080/welcome.html</tt> devra renvoyer le document <tt>client/welcome.html</tt>.\n",
    "<p><b>N.B.</b>\n",
    "Les plus curieux d'entre vous consulteront la\n",
    "<a href=\"https://docs.python.org/3/library/http.server.html\">doc python</a> pour une description exhaustive des\n",
    "variables de classe et d'instance et des méthodes héritées par une telle sous-classe, les autres\n",
    "se contenteront du code source fourni en cours, d'un serveur qui implémente précisément la fonctionnalité demandée.\n",
    "<p>\n",
    "Ecrivez et testez un serveur nommé <tt>TD2-s2.py</tt> qui utilise cette sous-classe et exhibe le comportement attendu :\n",
    "<br>\n",
    "<img src=\"TD2-welcome2.png\">"
   ]
  },
  {
   "cell_type": "code",
   "execution_count": 5,
   "metadata": {},
   "outputs": [],
   "source": [
    "%pycat TD2-s2.py"
   ]
  },
  {
   "cell_type": "code",
   "execution_count": 2,
   "metadata": {},
   "outputs": [],
   "source": [
    "# pour tester TD2-s2.py\n",
    "IFrame('http://localhost:8080/welcome.html?x',1080,120)"
   ]
  },
  {
   "cell_type": "markdown",
   "metadata": {},
   "source": [
    "<div style=\"background-color:#eef;padding:10px;border-radius:3px\">\n",
    "<b>3.2 -</b> Testez les liens ci-dessous et commentez les résultats obtenus :<ul>\n",
    "    <li> <a href=\"http://localhost:8080/welcome.html\" >http://localhost:8080/welcome.html</a>\n",
    "<li> <a href=\"http://localhost:8080/tagada.html\" >http://localhost:8080/tagada.html</a>\n",
    "<li> <a href=\"http://localhost:8080/\" >http://localhost:8080/</a>\n",
    "</ul>"
   ]
  },
  {
   "cell_type": "markdown",
   "metadata": {},
   "source": [
    "#### b) Rôle des fichiers index.html"
   ]
  },
  {
   "cell_type": "markdown",
   "metadata": {},
   "source": [
    "Le serveur dont vous disposez à présent est capable de délivrer toutes les ressources disponibles dans la sous-arborescence du répertoire <tt>client</tt>. Ces ressources peuvent correspondre à des fichiers texte (<tt>HTML</tt> ou pas), des images (<tt>gif</tt>, <tt>jpg</tt>, <tt>png</tt>), ou posséder d'autres formats reconnus par un navigateur (vidéos, <tt>pdf</tt>, <tt>svg</tt>,&nbsp;...)."
   ]
  },
  {
   "cell_type": "markdown",
   "metadata": {},
   "source": [
    "<div style=\"background-color:#eef;padding:10px;border-radius:3px\">\n",
    "<b>3.3 -</b>\n",
    "Testez ce point pour vous en convaincre, avec les documents existants dans l'arborescence, et en rajoutant un répertoire <tt>client/perso</tt> dans lequel vous pourrez placer divers fichiers. Essayez d'ajouter un fichier nommé <tt>index.html</tt> et commentez l'effet obtenu en accédant à l'adresse <a href=\"http://localhost:8080/perso/\">http://localhost:8080/perso/</a>"
   ]
  },
  {
   "cell_type": "markdown",
   "metadata": {},
   "source": [
    "### 4. Réponses à contenu dynamique (forgé à la volée)"
   ]
  },
  {
   "cell_type": "markdown",
   "metadata": {},
   "source": [
    "#### a) Routage et réponse dynamique"
   ]
  },
  {
   "cell_type": "markdown",
   "metadata": {},
   "source": [
    "Pour envoyer un document généré à la volée, il faut penser à :\n",
    "- envoyer la ligne de statut HTTP,\n",
    "- envoyer les lignes d'entête,\n",
    "- envoyer la chaîne de caractères qui constitue le corps de la réponse, en l'ayant préalablement encodée."
   ]
  },
  {
   "cell_type": "raw",
   "metadata": {},
   "source": [
    "  def send(self,body,headers=[]):\n",
    "\n",
    "    # on encode la chaine de caractères à envoyer\n",
    "    encoded = bytes(body, 'UTF-8')\n",
    "\n",
    "    # on envoie la ligne de statut\n",
    "    self.send_response(200)\n",
    "\n",
    "    # on envoie les lignes d'entête et la ligne vide\n",
    "    [self.send_header(*t) for t in headers]\n",
    "    self.send_header('Content-Length',int(len(encoded)))\n",
    "    self.end_headers()\n",
    "\n",
    "    # on envoie le corps de la réponse\n",
    "    self.wfile.write(encoded)\n"
   ]
  },
  {
   "cell_type": "markdown",
   "metadata": {},
   "source": [
    "<div style=\"background-color:#eef;padding:10px;border-radius:3px\">\n",
    "<b>4.1 -</b>\n",
    "Sur la base du serveur précédent, développez un serveur nommé TD2-s3.py qui renvoie un document avec la date et l'heure de votre machine lorsqu'il reçoit une requête <tt>GET</tt> avec le chemin d'accès <tt>/time</tt>, et testez-le via le <a href=\"http://localhost:8080/service_tester.html\">testeur de service</a> ou directement à l'adresse <a href=\"http://localhost:8080/time\">http://localhost:8080/time</a>.\n",
    "<br>\n",
    "<img src=\"TD2-time.png\">\n",
    "<p>Une fois encore, pensez à vous référer au cours qui propose le code source d'un serveur\n",
    "qui renvoie un document dynamique."
   ]
  },
  {
   "cell_type": "code",
   "execution_count": 6,
   "metadata": {},
   "outputs": [],
   "source": [
    "%pycat TD2-s3.py"
   ]
  },
  {
   "cell_type": "markdown",
   "metadata": {},
   "source": [
    "<b>N.B.</b> Le fait de renvoyer une réponse dynamique pour les chemins d'accès qui commencent par <tt>/time</tt> et éventuellement un document statique (s'il existe) dans le cas contraire, impose de tester l'adresse employée par le client, et d'aiguiller le comportement du serveur en fonction de sa forme. On appelle ce processus d'aiguillage <b>le routage</b> (encore très simple dans le cas présent)."
   ]
  },
  {
   "cell_type": "markdown",
   "metadata": {},
   "source": [
    "### 5. Consultation d'une base de donnée"
   ]
  },
  {
   "cell_type": "markdown",
   "metadata": {},
   "source": [
    "L'objectif est maintenant de s'appuyer sur le travail précédemment réalisé pour créer une application autour de la base de données du TD1. Pour cela, récupérez le fichier <tt>ter.sqlite</tt> et copiez-le dans le répertoire courant."
   ]
  },
  {
   "cell_type": "markdown",
   "metadata": {},
   "source": [
    "#### a) Liste des régions"
   ]
  },
  {
   "cell_type": "markdown",
   "metadata": {},
   "source": [
    "<div style=\"background-color:#eef;padding:10px;border-radius:3px\">\n",
    "<b>5.1 -</b>\n",
    "En réutilisant du code du TD n°1 (Cf. exercice 2.2) écrivez un serveur <tt>TD2-s4.py</tt> qui,\n",
    "sur réception d'une requête <tt>GET&nbsp;/regions</tt> :<ul>\n",
    "<li> fasse une requête sur la table <tt>regularite-mensuelle-ter</tt> pour extraire la liste des régions\n",
    "<li> renvoie une page au format <tt>text/plain</tt> contenant cette liste \n",
    "    </ul><br>\n",
    "<br>\n",
    "Tester votre code en affichant la page : <a href=\"http://localhost:8080/regions\">http://localhost:8080/regions</a>\n",
    "<br>\n",
    "<img src=\"TD2-regions.png\" width=\"90%\">"
   ]
  },
  {
   "cell_type": "code",
   "execution_count": 8,
   "metadata": {},
   "outputs": [],
   "source": [
    "%pycat TD2-s4.py"
   ]
  },
  {
   "cell_type": "markdown",
   "metadata": {},
   "source": [
    "#### b) Génération d'une image"
   ]
  },
  {
   "cell_type": "markdown",
   "metadata": {},
   "source": [
    "<div style=\"background-color:#eef;padding:10px;border-radius:3px\">\n",
    "<b>5.2 -</b>\n",
    "En réutilisant du code du TD n°1 (Cf. section 4 en fin de TD, exercice 4.1) écrivez un serveur <tt>TD2-s5.py</tt> qui,\n",
    "sur réception d'une requête <tt>GET&nbsp;/ponctualite</tt> :\n",
    "    \n",
    "* génère une image (cf. <a href=\"http://matplotlib.org/faq/howto_faq.html#generate-images-without-having-a-window-appear\">doc python</a>) nommée <tt>courbe_ponctualite.png</tt> dans le répertoire <tt>client</tt>,\n",
    "\n",
    "* et renvoie un fragment de code <tt>html</tt> (cf. balise <tt>img</tt>) faisant référence à ce graphique.\n",
    "\n",
    "Tester votre code en affichant la page : <a href=\"http://localhost:8080/ponctualite\">http://localhost:8080/ponctualite</a>\n",
    "\n",
    "<img src=\"TD2-courbe1.png\" width=\"90%\">"
   ]
  },
  {
   "cell_type": "code",
   "execution_count": 8,
   "metadata": {},
   "outputs": [],
   "source": [
    "%pycat TD2-s5.py"
   ]
  },
  {
   "cell_type": "markdown",
   "metadata": {},
   "source": [
    "__Remarque :__ si vous n'avez pas eu le temps de terminer le TD1, un corrigé du code de l'exercice 4.1 du TD1 vous est proposé dans le fichier <tt>TD1-corrige-4-1.py</tt>"
   ]
  },
  {
   "cell_type": "markdown",
   "metadata": {},
   "source": [
    "#### c) Passage de paramètres via le chemin d'accès"
   ]
  },
  {
   "cell_type": "markdown",
   "metadata": {},
   "source": [
    "On souhaiterait maintenant afficher la courbe de régularité région par région. Pour cela on peut passer en paramètre de la requête le nom de la région en l'ajoutant à la suite de l'URL comme par exemple : \n",
    "- <tt>GET /ponctualite/Bourgogne</tt>\n",
    "- <tt>GET /ponctualite/Auvergne-Rhône Alpes</tt>\n"
   ]
  },
  {
   "cell_type": "markdown",
   "metadata": {},
   "source": [
    "<div style=\"background-color:#eef;padding:10px;border-radius:3px\">\n",
    "\n",
    "<b>5.3 -</b> Améliorez le code du serveur précédent pour obtenir le serveur <tt>TD2-s6.py</tt> qui permette de telles requêtes paramétrées et qui retourne la courbe de ponctualité correspondante.\n",
    "<br>\n",
    "<br>\n",
    "Tester votre code en affichant la page : http://localhost:8080/ponctualite/Rhône%20Alpes\n",
    "<br>\n",
    "<img src=\"TD2-courbe2.png\" width=\"90%\">\n",
    "<br>\n",
    "Il faut aussi prévoir de traiter les typos dans le nom comme : http://localhost:8080/ponctualite/Rhône%20Alppes"
   ]
  },
  {
   "cell_type": "code",
   "execution_count": 8,
   "metadata": {},
   "outputs": [],
   "source": [
    "%pycat TD2-s6.py"
   ]
  },
  {
   "cell_type": "markdown",
   "metadata": {},
   "source": [
    "__Remarque :__ Comme le contenu de l'image change d'une requête à l'autre, mais pas son nom, il est nécessaire de rajouter une partie variable à l'adresse de l'image, pour éviter que votre navigateur n'utilise la version dans son cache. Une solution possible est d'utiliser la date et l'heure courante du serveur :\n",
    "<p>\n",
    "<tt style=\"display:block; text-align: center\">&lt;img src=\"courbe_ponctualite.png<span style=\"color:red\">?Thu,%2018%20Oct%202018%2017:12:21%20GMT</span>\"&gt;</tt>\n",
    "<p>\n",
    "On pourrait également utiliser un nombre aléatoire :\n",
    "<p>\n",
    "<tt style=\"display:block; text-align: center\">&lt;img src=\"courbe_ponctualite.png<span style=\"color:red\">?0.5476476547</span>\"&gt;</tt>"
   ]
  },
  {
   "cell_type": "markdown",
   "metadata": {},
   "source": [
    "### 6. Suites possibles"
   ]
  },
  {
   "cell_type": "markdown",
   "metadata": {},
   "source": [
    "#### a) Optimisation - Cache serveur"
   ]
  },
  {
   "cell_type": "markdown",
   "metadata": {},
   "source": [
    "Le serveur précédent re-génère un graphique à chaque requête. Il serait beaucoup plus intéressant de ne générer chaque image qu'une seule fois.\n",
    "\n",
    "Pour éviter de générer un graphique à chaque requête, il faut concevoir une nomenclature de noms de fichiers dépendant de leur paramétrage, et ne générer le fichier image que s'il n'existe pas déjà."
   ]
  },
  {
   "cell_type": "markdown",
   "metadata": {},
   "source": [
    "#### b) Autres verbes HTTP"
   ]
  },
  {
   "cell_type": "markdown",
   "metadata": {},
   "source": [
    "Créer un serveur RESTful qui effectue les opérations suivantes :\n",
    "<table>\n",
    "<tr><th>Requête</th><th>Opération</th><th>Résultat</th></tr>\n",
    "<tr><td><tt>GET    /ponctualite/region</tt></td><td>Ne fait rien</td><td>Balise <tt>img</tt> ou 404 Not Found</td></tr>\n",
    "<tr><td><tt>POST   /ponctualite/region</tt></td><td>Crée l'image si elle n'existe pas</td><td>Balise <tt>img</tt></td></tr>\n",
    "<tr><td><tt>PUT    /ponctualite/region</tt></td><td>Crée, voire recrée l'image si elle existe</td><td>Balise <tt>img</tt></td></tr>\n",
    "<tr><td><tt>DELETE /ponctualite/region</tt></td><td>Supprime l'image si elle existe</td><td>Réponse sans corps</td></tr>\n",
    "</table>\n"
   ]
  },
  {
   "cell_type": "code",
   "execution_count": null,
   "metadata": {
    "collapsed": true
   },
   "outputs": [],
   "source": []
  }
 ],
 "metadata": {
  "kernelspec": {
   "display_name": "Python 3",
   "language": "python",
   "name": "python3"
  },
  "language_info": {
   "codemirror_mode": {
    "name": "ipython",
    "version": 3
   },
   "file_extension": ".py",
   "mimetype": "text/x-python",
   "name": "python",
   "nbconvert_exporter": "python",
   "pygments_lexer": "ipython3",
   "version": "3.6.5"
  }
 },
 "nbformat": 4,
 "nbformat_minor": 1
}
