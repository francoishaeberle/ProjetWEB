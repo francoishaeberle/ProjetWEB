{
 "cells": [
  {
   "cell_type": "markdown",
   "metadata": {},
   "source": [
    "#    <center>Informatique tc3 (Projet Web) - TD3 + 4</center>"
   ]
  },
  {
   "cell_type": "markdown",
   "metadata": {},
   "source": [
    "## <center style=\"color: #66d\">Développement d'interfaces Web</center>"
   ]
  },
  {
   "cell_type": "markdown",
   "metadata": {},
   "source": [
    "### 1. Préambule"
   ]
  },
  {
   "cell_type": "markdown",
   "metadata": {},
   "source": [
    "#### a) Modalités pratiques"
   ]
  },
  {
   "cell_type": "markdown",
   "metadata": {},
   "source": [
    "Il est possible d'inclure du code HTML dans un notebook ipython. Essayez : c'est simple, il suffit d'écrire des balises dans une zone de texte <i>(Markdown)</i>. Si vous manquez <span style=\"color:red\">d'inspiration</span>, vérifiez simplement comment <em>CE TEXTE</em> a été mis en italiques, ou <strong>CELUI-CI</strong> en gras, en regardant simplement le code source de la cellule."
   ]
  },
  {
   "cell_type": "markdown",
   "metadata": {},
   "source": [
    "Le développement d'interfaces pour une application Web dans un notebook n'est toutefois pas possible car&#160;:\n",
    "- la mise en page du notebook va interférer avec la présentation graphique de votre interface,\n",
    "- l'interactivité de votre interface va interférer avec celle du notebook,\n",
    "- la soumission d'un formulaire va vous faire quitter le notebook,\n",
    "- vous ne pourrez pas facilement exécuter du code javascript dans votre notebook,\n",
    "- il existe des règles de sécurité qui empêchent un navigateur d'émettre des requêtes AJAX vers un serveur <i>(celui que vous aurez développé)</i> autre que celui dont est issu la page qui envoie la requête <em>(le serveur de notebook)."
   ]
  },
  {
   "cell_type": "markdown",
   "metadata": {},
   "source": [
    "Pour toutes ces raisons, il va falloir :\n",
    "\n",
    "1) vous munir de votre éditeur de texte favori <sup>*</sup>,\n",
    "\n",
    "2) créer vos fichiers <tt>.html</tt> et <tt>.css</tt> dans __le répertoire <tt>/client</tt>__ de votre serveur.\n",
    "\n",
    "3) accéder aux fichiers html <b>via votre serveur</b>.<br>\n",
    "AJAX ne fonctionnera pas si vous ouvrez vos pages html en faisant un double-clic sur le fichier <i>(cf. url en file:// dans la barre d'adresse du navigateur)</i>."
   ]
  },
  {
   "cell_type": "markdown",
   "metadata": {},
   "source": [
    "#### b) Choix d'un éditeur de texte"
   ]
  },
  {
   "cell_type": "markdown",
   "metadata": {},
   "source": [
    "N'importe quel éditeur de texte fait l'affaire. Attention, ni Word, ni WordPad ne sont des éditeurs de texte : ce sont des programmes de <em>traitement de texte</em>. Voici quelques suggestions si vous n'avez pas déjà votre favori :"
   ]
  },
  {
   "cell_type": "markdown",
   "metadata": {},
   "source": [
    "<img title=\"Bloc Notes Windows\" src=\"notepad.png\" style=\"display:inline;width:120px\">\n",
    "<img title=\"Notepad++\" src=\"Notepadpp_Logo.png\" style=\"display:inline;width:120px;margin-left:50px\">\n",
    "<img title=\"Vim - Vi for Windows\" src=\"VimLogo.svg\" style=\"display:inline;width:120px;margin-left:50px\">\n",
    "<img title=\"Emacs\" src=\"EmacsIcon.svg\" style=\"display:inline;width:120px;margin-left:50px\">\n",
    "<img title=\"Sublime Text\" src=\"Sublime_Text.png\" style=\"display:inline;width:120px;margin-left:50px\">"
   ]
  },
  {
   "cell_type": "markdown",
   "metadata": {},
   "source": [
    "Si tout cela vous laisse perplexe, téléchargez et installez Sublime Text, il convient très bien et il en existe une version pour toutes les platerformes."
   ]
  },
  {
   "cell_type": "markdown",
   "metadata": {},
   "source": [
    "### 2. Développement d'une première interface simple"
   ]
  },
  {
   "cell_type": "markdown",
   "metadata": {},
   "source": [
    "<div style=\"background-color:#eef;padding:10px;border-radius:3px\">\n",
    "    \n",
    "<b>2.1 -</b>\n",
    "Développez un document HTML appelé <a href=\"http://localhost:8080/TD3-s1.html\"><tt>TD3-s1.html</tt></a> dans le répertoire <tt>client</tt> de ce TD. Cette page comprendra un formulaire qui demande le nom et le prénom de l'utilisateur. Lors de la soumission du formulaire on désire que le navigateur appelle le serveur dont est issu le document avec la méthode <tt>POST</tt>, le chemin d'accès <tt>/toctoc</tt> et les variables <tt>Nom</tt> et <tt>Prenom</tt> dans la chaîne de requête envoyée avec le corps.\n",
    "\n",
    "Une fois cette page développée, démarrez le serveur <tt>TD3-serveur1.py</tt> fourni avec ce TD et vérifiez que le serveur vous renvoie bien le résultat attendu en remplissant le formulaire sur : http://localhost:8080/TD3-s1.html\n",
    "\n",
    "<img src=\"TD3-EvaDrouy.png\">\n"
   ]
  },
  {
   "cell_type": "markdown",
   "metadata": {},
   "source": [
    "__Rappels :__ Le serveur `TD3-serveur1.py` doit être démarré manuellement via Spyder et nous vous conseillons de le lancer dans une console dédiée en allant dans le menu \"Exécution&nbsp;|&nbsp;Configurer...\" et en choisissant l'option \"Exécuter dans une nouvelle console Python dédiée\"."
   ]
  },
  {
   "cell_type": "markdown",
   "metadata": {},
   "source": [
    "<div style=\"background-color:#eef;padding:10px;border-radius:3px\">\n",
    "    \n",
    "<b>2.2 -</b> Modifier votre document HTML pour obtenir la version <a href=\"http://localhost:8080/TD3-s2.html\"><tt>TD3-s2.html</tt></a> qui réalise la soumission du formulaire avec la méthode `GET` au lieu de `POST`. Quelles sont les différences ?\n",
    "\n",
    "Dans le GET les infos sont présentes dans l'URL directement alors que pour le POST, les infos sont conservées dans le corps du fichier directement"
   ]
  },
  {
   "cell_type": "markdown",
   "metadata": {},
   "source": [
    "<div style=\"background-color:#eef;padding:10px;border-radius:3px\">\n",
    "    \n",
    "<b>2.3 -</b> Une fois votre formulaire fonctionnel, et en vous aidant du cours sur CSS, améliorez la présentation de votre formulaire.\n",
    "\n",
    "Exemple de présentation :\n",
    "    \n",
    "<img src=\"TD3-formulaire.png\" style=\"border-radius: 7px; border: 1px solid black;box-shadow: 5px 5px 5px black\">\n",
    "&nbsp;"
   ]
  },
  {
   "cell_type": "markdown",
   "metadata": {},
   "source": [
    "### 3. Améliorations : passage à une requête AJAX"
   ]
  },
  {
   "cell_type": "markdown",
   "metadata": {},
   "source": [
    "Lorsque la réponse revient, il est dommage qu'elle soit affichée dans une fenêtre différente, et dans une présentation très différente de celle de la page appelante.\n",
    "\n",
    "Nous allons maintenant modifier le serveur pour qu'il renvoie directement les données _(non formattées en HTML)_ et pour que la page appelante affiche directement le résultat obtenu en envoyant une requête AJAX plutôt qu'en soumettant un formulaire."
   ]
  },
  {
   "cell_type": "markdown",
   "metadata": {},
   "source": [
    "<div style=\"background-color:#eef;padding:10px;border-radius:3px\">\n",
    "    \n",
    "<b>3.1 -</b> Modifiez le serveur en le renommant <tt>TD3-s3.py</tt> pour qu'il renvoie de l'information formatée en JSON, plutôt que du texte HTML (pour les méthodes `GET` et `POST`). On s'attend à une réponse qui ressemble à :\n",
    "\n",
    "<pre>\n",
    "{\n",
    "  \"given_name\": \"Eva\",\n",
    "  \"family_name\": \"Drouy\"\n",
    "}\n",
    "</pre>"
   ]
  },
  {
   "cell_type": "code",
   "execution_count": 6,
   "metadata": {},
   "outputs": [],
   "source": [
    "%pycat TD3-s3.py"
   ]
  },
  {
   "cell_type": "markdown",
   "metadata": {},
   "source": [
    "<div style=\"background-color:#eef;padding:10px;border-radius:3px\">\n",
    "    \n",
    "<b>3.2 -</b> Modifiez maintenant votre interface en l'appelant <a href=\"http://localhost:8080/TD3-s3.html\"><tt>TD3-s3.html</tt></a> :\n",
    "- supprimez les balises <tt>form</tt> <i>(ouvrante et fermante)</i>,\n",
    "- ajouter <tt>id=\"prenom\"</tt> et <tt>id=\"nom\"</tt> dans les champs  <tt>&lt;input&gt;</tt> correspondants\n",
    "- ajoutez un paragraphe ou un élément <tt>&lt;div&gt;</tt> avec un attribut <tt>id=\"reponse\"</tt>,\n",
    "- remplacez la balise <tt>&lt;input type=\"submit\"&gt;</tt> par un élément <tt>&lt;button&gt;</tt> avec un attribut <tt>id=\"bouton\"</tt>,\n",
    "- puis déclarez un gestionnaire d'événement pour un clic sur le bouton avec le code Javascript suivant :\n",
    "<pre>\n",
    "&lt;script&gt;\n",
    "document.getElementById('bouton').addEventListener('click', envoiformulaire);\n",
    "&nbsp;\n",
    "function envoiformulaire(e) {\n",
    "    var xhr = new XMLHttpRequest(); \n",
    "    // on récupére le nom et le prénom\n",
    "    var pr = document.getElementById('prenom').value,\n",
    "        no = document.getElementById('nom').value ;\n",
    "    xhr.onload = function() {   // fonction callback\n",
    "      // récupération des données renvoyées par le serveur\n",
    "      var data = JSON.parse(this.responseText);\n",
    "      // affichage dans la zone 'reponse' du prénom et du nom récupéré par l'appel au serveur\n",
    "      document.getElementById('reponse').innerHTML = 'Bonjour ' + data.given_name + ' ' + data.family_name;\n",
    "      };\n",
    "    xhr.open('GET','/toctoc?'+'Prenom='+pr+'&'+'Nom='+no,true);  // requête avec une \"query string\"\n",
    "    xhr.send();\n",
    "}\n",
    "&lt;/script&gt;</pre>\n",
    "\n",
    "Vous pouvez espérer un résultat de ce type :\n",
    "\n",
    "<img src=\"TD3-formulaire3.png\" style=\"border-radius: 7px; border: 1px solid black;box-shadow: 5px 5px 5px black\">\n",
    "&nbsp;"
   ]
  },
  {
   "cell_type": "markdown",
   "metadata": {},
   "source": [
    "Le résultat est correct mais n'est pas encore _RESTful_. En effet, l'architecture REST ne préconise pas le passage d'information au serveur via la chaîne de requête (\"query string\"), mais en utiliant l'URL pour identifier une ressource."
   ]
  },
  {
   "cell_type": "markdown",
   "metadata": {},
   "source": [
    "<div style=\"background-color:#eef;padding:10px;border-radius:3px\">\n",
    "    \n",
    "<b>3.3 -</b> Modifiez le serveur en le renommant <tt>TD3-s4.py</tt> pour qu'il renvoie l'information en utilisant les paramètres passés dans l'URL sous la forme<br> <tt>/toctoc/_prenom_/_nom_</tt>.\n",
    "\n",
    "Modifiez également votre interface en l'appelant <a href=\"http://localhost:8080/TD3-s4.html\"><tt>TD3-s4.html</tt></a> pour réaliser l'appel AJAX sous la forme <tt>GET /toctoc/_prenom_/_nom_</tt>.\n",
    "\n",
    "Testez le résultat... qui devrait être exactement le même qu'au __§ 3.2__..."
   ]
  },
  {
   "cell_type": "markdown",
   "metadata": {},
   "source": [
    "### 4. Calcul et affichage d'une image"
   ]
  },
  {
   "cell_type": "markdown",
   "metadata": {},
   "source": [
    "L'objectif est maintenant de s'appuyer sur le travail précédemment réalisé pour créer une application autour de la base de données de régularité des TER. Pour cela, récupérez le fichier <tt>ter.sqlite</tt> (TD1) et copiez-le dans le répertoire courant."
   ]
  },
  {
   "cell_type": "markdown",
   "metadata": {},
   "source": [
    "<div style=\"background-color:#eef;padding:10px;border-radius:3px\">\n",
    "    \n",
    "<b>4.1 -</b>\n",
    "En réutilisant le code du TD n°2 (fichier <tt>TD2-s6.py</tt> exercice 5.3) comme serveur, développez un formulaire nommée <a href=\"http://localhost:8080/TD3-s5.html\"><tt>TD3-s5.html</tt></a> pour ce serveur qui réalise une requête AJAX sur l'URL `/ponctualite` paramétrée par le nom de la région saisie dans le formulaire. L'objectif est de pouvoir afficher un diagramme de ponctualité créé côté serveur pour obtenir un résultat de ce type.\n",
    "\n",
    "__Remarque :__ si vous n'avez pas eu le temps de terminer le TD2, un corrigé du code de l'exercice 5.3 du TD2 vous est proposé dans le fichier <tt>TD2-corrige-5-3.py</tt>\n",
    "\n",
    "<img src=\"TD3-formulaire5.png\" style=\"border-radius: 7px; border: 1px solid black;box-shadow: 5px 5px 5px black\">\n",
    "&nbsp;"
   ]
  },
  {
   "cell_type": "markdown",
   "metadata": {},
   "source": [
    "<div style=\"background-color:#eef;padding:10px;border-radius:3px\">\n",
    "    \n",
    "<b>4.2 -</b>  Faites une copie du serveur précédent et nommez-le <tt>TD3-s6.py</tt>, puis modifiez-le pour qu'il ne renvoie plus une balise html <tt>&lt;img&gt;</tt> mais une structure JSON avec simplement le nom du fichier image. Côté client, votre nouvelle interface nommée <a href=\"http://localhost:8080/TD3-s6.html\"><tt>TD3-s6.html</tt></a> aura simplement à modifier l'attribut <tt>src</tt> de l'image dans le navigateur pour que celui-ci l'affiche correctement.\n",
    "\n",
    "Exemple de réponse attendue :\n",
    "<pre>\n",
    "{\n",
    "   \"title\": \"Régularité TER Rhône Alpes\",\n",
    "   \"img\": \"/courbes/ponctualite Rhône Alpes.png\"\n",
    "}\n",
    "</pre>\n",
    "\n",
    "Exemple de fonction de traitement côté client pour afficher l'image (N.B. il manque le détail de l'implémentation HTML) :\n",
    "<pre>\n",
    "var image =  document.querySelector('#reponse img'),\n",
    "    legende = document.querySelector('#reponse p'),\n",
    "    reg = document.getElementById('region').value;\n",
    "var r = new XMLHttpRequest();\n",
    "r.onload = function() {\n",
    "    var data = JSON.parse(this.responseText)\n",
    "    image.src = data.img;\n",
    "    image.alt = data.title;\n",
    "    legende.innerHTML = data.title;\n",
    "    };\n",
    "r.open('GET','/ponctualite/'+reg,true);\n",
    "r.send();\n",
    "</pre>\n",
    "\n",
    "Un résultat possible :\n",
    "\n",
    "<img src=\"TD3-formulaire6.png\" style=\"border-radius: 7px; border: 1px solid black;box-shadow: 5px 5px 5px black\">\n",
    "&nbsp;"
   ]
  },
  {
   "cell_type": "code",
   "execution_count": 1,
   "metadata": {},
   "outputs": [],
   "source": [
    "%pycat TD3-s6.py"
   ]
  },
  {
   "cell_type": "markdown",
   "metadata": {},
   "source": [
    "### 5. Carte glissante"
   ]
  },
  {
   "cell_type": "markdown",
   "metadata": {},
   "source": [
    "L'objectif est maintenant de remplacer la saisie manuelle de la région dans notre formulaire, par la sélection de la région d'intérêt en faisant un clic sur une carte glissante affichant l'ensemble des régions disponibles."
   ]
  },
  {
   "cell_type": "markdown",
   "metadata": {},
   "source": [
    "#### a) Affichage d’une carte glissante"
   ]
  },
  {
   "cell_type": "markdown",
   "metadata": {},
   "source": [
    "Pour réaliser l’affichage d’une carte géographique glissante (slippy map) on utilise la bibliothèque javascript Leaflet (http://leafletjs.com/). Cette bibliothèque permet l’affichage d’un fond de carte utilisant des serveurs de dalles (tiles server) disponible sur Internet (on utilisera OpenStreetMap) ainsi que l’affichage de marqueurs et d’autres éléments graphiques en superposition. Tous ces éléments graphiques peuvent être rendus interactifs grâce à l’utilisation de javascript.\n"
   ]
  },
  {
   "cell_type": "markdown",
   "metadata": {},
   "source": [
    "Un exemple simple de carte glissante vous est fourni. Cet exemple intitulé _« Mes lieux insolites à la Croix-Rousse »_ montre une carte glissante de ce quartier de Lyon sur laquelle 3 points d’intérêts (_POI=Point of Interest_) sont positionnés. En cliquant sur l’un d’entre eux, une fenêtre popup s’affiche précisant le nom de ce lieu et, en-dessous de la carte, une description de ce lieu est donnée."
   ]
  },
  {
   "cell_type": "markdown",
   "metadata": {},
   "source": [
    "<div style=\"background-color:#eef;padding:10px;border-radius:3px\">\n",
    "    \n",
    "Lancer le serveur <tt>TD3-lieux-insolites.py</tt> et ouvrez la page <a href=\"http://localhost:8080/TD3-lieux-insolites.html\"><tt>TD3-lieux-insolites.html</tt></a> :\n",
    "\n",
    "<img src=\"TD3-formulaire7.png\" style=\"border-radius: 7px; border: 1px solid black;box-shadow: 5px 5px 5px black\">\n",
    "&nbsp;"
   ]
  },
  {
   "cell_type": "markdown",
   "metadata": {},
   "source": [
    "<div style=\"background-color:#efe;padding:10px;border-radius:10px\">\n",
    "    \n",
    "<b>Parenthèse culturelle</b> (à l'attention de celles et ceux qui ne connaitraient de Lyon que le trajet du 3|4|55 pour aller prendre leur TGV le vendredi soir) : \n",
    "\n",
    "La Croix-Rousse est un quartier situé au nord de Lyon réputé pour son glorieux passé lié au tissage de la soie (La Fabrique, la révolte des Canuts, les premiers syndicats ouvriers, la naissance du mouvement mutualiste, etc.) et surtout pour la présence de la fanfare Piston le dimanche matin sur le marché du boulevard…"
   ]
  },
  {
   "cell_type": "markdown",
   "metadata": {},
   "source": [
    "Techniquement, au moment du chargement de la page, une première requête AJAX est faite pour récupérer le fichier des POI depuis le serveur et les afficher sur la carte glissante à l’aide d’une fonction javascript de la bibliothèque _Leaflet_. A chaque clic sur un POI, une autre requête AJAX est déclenchée pour récupérer la description associée au POI et l’afficher dans la zone prévue sous la carte. Côté serveur, la méthode surchargée do_GET prend donc en compte 2 URL particulières :\n",
    "* `/location` : qui renvoie la liste des POI au format JSON\n",
    "* `/description/x` : qui renvoie la description pour le POI n° x au format JSON\n"
   ]
  },
  {
   "cell_type": "markdown",
   "metadata": {},
   "source": [
    "#### b) Intégration d'une carte au site de régularité des TER"
   ]
  },
  {
   "cell_type": "markdown",
   "metadata": {},
   "source": [
    "<div style=\"background-color:#eef;padding:10px;border-radius:3px\">\n",
    "    \n",
    "<b>5.1 -</b> Développez un nouveau serveur <tt>TD3-s7.py</tt> nouvelle interface <a href=\"http://localhost:8080/TD3-s7.html\"><tt>TD3-s7.html</tt></a> qui reprend le travail de la section 4 en intégrant une carte glissante de la France. Cette carte affiche des POI au centre de chaque région (anciennes et nouvelles). En cliquant sur un marqueur, la courbe de régularité correspondante est affichée. \n",
    "\n",
    "Un résultat possible :\n",
    "\n",
    "<img src=\"TD3-formulaire8.png\" style=\"border-radius: 7px; border: 1px solid black;box-shadow: 5px 5px 5px black\">\n",
    "&nbsp;"
   ]
  },
  {
   "cell_type": "markdown",
   "metadata": {},
   "source": [
    "__Ressources :__ Un fichier <tt>regions.csv</tt> vous est fourni qui contient la liste des régions françaises (colonne `nom`) avec les coordonnées géographiquse de leur centre (colonnes `lat` et `lon`). Ce fichier peut, par exemple, être importé dans une nouvelle table de la base <tt>ter.sqlite</tt>"
   ]
  },
  {
   "cell_type": "code",
   "execution_count": 11,
   "metadata": {},
   "outputs": [],
   "source": [
    "%pycat TD3-s7.py"
   ]
  },
  {
   "cell_type": "code",
   "execution_count": null,
   "metadata": {
    "collapsed": true
   },
   "outputs": [],
   "source": []
  }
 ],
 "metadata": {
  "kernelspec": {
   "display_name": "Python 3",
   "language": "python",
   "name": "python3"
  },
  "language_info": {
   "codemirror_mode": {
    "name": "ipython",
    "version": 3
   },
   "file_extension": ".py",
   "mimetype": "text/x-python",
   "name": "python",
   "nbconvert_exporter": "python",
   "pygments_lexer": "ipython3",
   "version": "3.6.5"
  }
 },
 "nbformat": 4,
 "nbformat_minor": 1
}
